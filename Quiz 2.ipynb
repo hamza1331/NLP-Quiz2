{
 "cells": [
  {
   "cell_type": "code",
   "execution_count": 102,
   "metadata": {},
   "outputs": [
    {
     "name": "stdout",
     "output_type": "stream",
     "text": [
      "showing info https://raw.githubusercontent.com/nltk/nltk_data/gh-pages/index.xml\n"
     ]
    },
    {
     "data": {
      "text/plain": [
       "True"
      ]
     },
     "execution_count": 102,
     "metadata": {},
     "output_type": "execute_result"
    }
   ],
   "source": [
    "import nltk"
   ]
  },
  {
   "cell_type": "code",
   "execution_count": 101,
   "metadata": {},
   "outputs": [
    {
     "name": "stdout",
     "output_type": "stream",
     "text": [
      "[(',', 186091), ('the', 125748), ('and', 78846), ('.', 73746), ('of', 70078), (':', 47406), ('to', 46443), ('a', 32504), ('in', 31959), ('I', 30221)]\n"
     ]
    }
   ],
   "source": [
    "words = nltk.corpus.gutenberg.words()\n",
    "\n",
    "unigrams = nltk.FreqDist(words)\n",
    "print(unigrams.most_common(10))\n",
    "highfreq = unigrams.most_common(20)\n"
   ]
  },
  {
   "cell_type": "code",
   "execution_count": 103,
   "metadata": {},
   "outputs": [
    {
     "name": "stdout",
     "output_type": "stream",
     "text": [
      "day\n",
      "[('day', 390), (',', 382), ('is', 340), ('time', 208)]\n"
     ]
    }
   ],
   "source": [
    "bigrams = nltk.bigrams(words)\n",
    "bifreq = nltk.ConditionalFreqDist(bigrams)\n",
    "print(bifreq['this'].max())\n",
    "print(bifreq['this'].most_common(4))"
   ]
  },
  {
   "cell_type": "code",
   "execution_count": 1,
   "metadata": {},
   "outputs": [],
   "source": [
    "import numpy as np\n",
    "import pandas as pd\n",
    "data=pd.read_csv(\"Health.csv\",encoding=\"utf8\")"
   ]
  },
  {
   "cell_type": "code",
   "execution_count": 2,
   "metadata": {},
   "outputs": [
    {
     "data": {
      "text/html": [
       "<div>\n",
       "<style scoped>\n",
       "    .dataframe tbody tr th:only-of-type {\n",
       "        vertical-align: middle;\n",
       "    }\n",
       "\n",
       "    .dataframe tbody tr th {\n",
       "        vertical-align: top;\n",
       "    }\n",
       "\n",
       "    .dataframe thead th {\n",
       "        text-align: right;\n",
       "    }\n",
       "</style>\n",
       "<table border=\"1\" class=\"dataframe\">\n",
       "  <thead>\n",
       "    <tr style=\"text-align: right;\">\n",
       "      <th></th>\n",
       "      <th>category</th>\n",
       "      <th>date</th>\n",
       "      <th>link</th>\n",
       "      <th>summery</th>\n",
       "      <th>title</th>\n",
       "    </tr>\n",
       "  </thead>\n",
       "  <tbody>\n",
       "    <tr>\n",
       "      <th>2192</th>\n",
       "      <td>health</td>\n",
       "      <td>2015-03-21T04:40:46 GMT</td>\n",
       "      <td>https://www.express.pk/story/339180</td>\n",
       "      <td>جب تک آپ کی نیند پوری نہیں ہوگی آپ کا اگلا د...</td>\n",
       "      <td>نیند سے پہلے…</td>\n",
       "    </tr>\n",
       "    <tr>\n",
       "      <th>2193</th>\n",
       "      <td>health</td>\n",
       "      <td>2015-03-20T13:58:27 GMT</td>\n",
       "      <td>https://www.express.pk/story/339092</td>\n",
       "      <td>چین میں 15 برس سے زائد عمر کا ہر شہری سال بھر ...</td>\n",
       "      <td>تمباکونوشی کرنے والا شخص عالمی صنعت کو ہزاروں ...</td>\n",
       "    </tr>\n",
       "    <tr>\n",
       "      <th>2194</th>\n",
       "      <td>health</td>\n",
       "      <td>2015-03-20T04:09:57 GMT</td>\n",
       "      <td>https://www.express.pk/story/338467</td>\n",
       "      <td>کم شمسی سرگرمی کے دنوں میں پیدا ہونے والے افرا...</td>\n",
       "      <td>سورج کی سرگرمی انسانی زندگی کو متاثر کرتی ہے، ...</td>\n",
       "    </tr>\n",
       "    <tr>\n",
       "      <th>2195</th>\n",
       "      <td>health</td>\n",
       "      <td>2015-03-19T04:32:46 GMT</td>\n",
       "      <td>https://www.express.pk/story/338432</td>\n",
       "      <td>اسپتالوں میں صفائی کے ناقص انتطامات کے باعث حا...</td>\n",
       "      <td>اسپتالوں میں گندگی سے لاکھوں بچے موت کے منہ می...</td>\n",
       "    </tr>\n",
       "    <tr>\n",
       "      <th>2196</th>\n",
       "      <td>health</td>\n",
       "      <td>2015-03-18T05:22:04 GMT</td>\n",
       "      <td>https://www.express.pk/story/338332</td>\n",
       "      <td>ماں کا دودھ پینے والے بچوں کے زیادہ تعلیم اور ...</td>\n",
       "      <td>ماں کا دودھ پینے والے بچے زیادہ ذہین ہوتے ہیں،...</td>\n",
       "    </tr>\n",
       "    <tr>\n",
       "      <th>2197</th>\n",
       "      <td>health</td>\n",
       "      <td>2015-03-17T19:40:05 GMT</td>\n",
       "      <td>https://www.express.pk/story/338196</td>\n",
       "      <td>روزانہ تین کپ سیاہ قہوہ کا استعمال ذیابیطس کے ...</td>\n",
       "      <td>سیاہ قہوہ شوگر کا خطرہ کم کردیتا ہے</td>\n",
       "    </tr>\n",
       "    <tr>\n",
       "      <th>2198</th>\n",
       "      <td>health</td>\n",
       "      <td>2015-03-17T09:34:53 GMT</td>\n",
       "      <td>https://www.express.pk/story/338067</td>\n",
       "      <td>سورج کی روشنی میں مناسب وقت گزارنے سے موٹاپے ک...</td>\n",
       "      <td>موٹاپا کم کرنا ہے تو دھوپ سینکیں، تحقیق</td>\n",
       "    </tr>\n",
       "    <tr>\n",
       "      <th>2199</th>\n",
       "      <td>health</td>\n",
       "      <td>2015-03-17T03:28:24 GMT</td>\n",
       "      <td>https://www.express.pk/story/337810</td>\n",
       "      <td>لگ بھگ 20 ہزار افراد پر کئے گئے مطالعے سے معلو...</td>\n",
       "      <td>بلڈ پریشر کےمریض فولک ایسڈ کھائیں اور فالج سے ...</td>\n",
       "    </tr>\n",
       "    <tr>\n",
       "      <th>2200</th>\n",
       "      <td>health</td>\n",
       "      <td>2015-03-16T13:40:26 GMT</td>\n",
       "      <td>https://www.express.pk/story/337779</td>\n",
       "      <td>موذی بیماری سے ہلاک ہونے والوں میں زیادہ تر کا...</td>\n",
       "      <td>’’ہیپاٹائٹس بی‘‘ سے دنیا بھر میں سالانہ 6 لاکھ...</td>\n",
       "    </tr>\n",
       "    <tr>\n",
       "      <th>2201</th>\n",
       "      <td>health</td>\n",
       "      <td>2015-03-16T06:27:27 GMT</td>\n",
       "      <td>https://www.express.pk/story/337130</td>\n",
       "      <td>ناریل کے تیل کا کھانے پکاتے ہوئے استعمال بھی ن...</td>\n",
       "      <td>ناریل کے تیل میں صحت کے متعدد مسائل کا حل</td>\n",
       "    </tr>\n",
       "  </tbody>\n",
       "</table>\n",
       "</div>"
      ],
      "text/plain": [
       "     category                     date                                 link  \\\n",
       "2192   health  2015-03-21T04:40:46 GMT  https://www.express.pk/story/339180   \n",
       "2193   health  2015-03-20T13:58:27 GMT  https://www.express.pk/story/339092   \n",
       "2194   health  2015-03-20T04:09:57 GMT  https://www.express.pk/story/338467   \n",
       "2195   health  2015-03-19T04:32:46 GMT  https://www.express.pk/story/338432   \n",
       "2196   health  2015-03-18T05:22:04 GMT  https://www.express.pk/story/338332   \n",
       "2197   health  2015-03-17T19:40:05 GMT  https://www.express.pk/story/338196   \n",
       "2198   health  2015-03-17T09:34:53 GMT  https://www.express.pk/story/338067   \n",
       "2199   health  2015-03-17T03:28:24 GMT  https://www.express.pk/story/337810   \n",
       "2200   health  2015-03-16T13:40:26 GMT  https://www.express.pk/story/337779   \n",
       "2201   health  2015-03-16T06:27:27 GMT  https://www.express.pk/story/337130   \n",
       "\n",
       "                                                summery  \\\n",
       "2192  جب تک آپ کی نیند پوری نہیں ہوگی آپ کا اگلا د...   \n",
       "2193  چین میں 15 برس سے زائد عمر کا ہر شہری سال بھر ...   \n",
       "2194  کم شمسی سرگرمی کے دنوں میں پیدا ہونے والے افرا...   \n",
       "2195  اسپتالوں میں صفائی کے ناقص انتطامات کے باعث حا...   \n",
       "2196  ماں کا دودھ پینے والے بچوں کے زیادہ تعلیم اور ...   \n",
       "2197  روزانہ تین کپ سیاہ قہوہ کا استعمال ذیابیطس کے ...   \n",
       "2198  سورج کی روشنی میں مناسب وقت گزارنے سے موٹاپے ک...   \n",
       "2199  لگ بھگ 20 ہزار افراد پر کئے گئے مطالعے سے معلو...   \n",
       "2200  موذی بیماری سے ہلاک ہونے والوں میں زیادہ تر کا...   \n",
       "2201  ناریل کے تیل کا کھانے پکاتے ہوئے استعمال بھی ن...   \n",
       "\n",
       "                                                  title  \n",
       "2192                                      نیند سے پہلے…  \n",
       "2193  تمباکونوشی کرنے والا شخص عالمی صنعت کو ہزاروں ...  \n",
       "2194  سورج کی سرگرمی انسانی زندگی کو متاثر کرتی ہے، ...  \n",
       "2195  اسپتالوں میں گندگی سے لاکھوں بچے موت کے منہ می...  \n",
       "2196  ماں کا دودھ پینے والے بچے زیادہ ذہین ہوتے ہیں،...  \n",
       "2197                سیاہ قہوہ شوگر کا خطرہ کم کردیتا ہے  \n",
       "2198          موٹاپا کم کرنا ہے تو دھوپ سینکیں، تحقیق    \n",
       "2199  بلڈ پریشر کےمریض فولک ایسڈ کھائیں اور فالج سے ...  \n",
       "2200  ’’ہیپاٹائٹس بی‘‘ سے دنیا بھر میں سالانہ 6 لاکھ...  \n",
       "2201          ناریل کے تیل میں صحت کے متعدد مسائل کا حل  "
      ]
     },
     "execution_count": 2,
     "metadata": {},
     "output_type": "execute_result"
    }
   ],
   "source": [
    "data.tail(10)"
   ]
  },
  {
   "cell_type": "code",
   "execution_count": 107,
   "metadata": {},
   "outputs": [
    {
     "data": {
      "text/html": [
       "<div>\n",
       "<style scoped>\n",
       "    .dataframe tbody tr th:only-of-type {\n",
       "        vertical-align: middle;\n",
       "    }\n",
       "\n",
       "    .dataframe tbody tr th {\n",
       "        vertical-align: top;\n",
       "    }\n",
       "\n",
       "    .dataframe thead th {\n",
       "        text-align: right;\n",
       "    }\n",
       "</style>\n",
       "<table border=\"1\" class=\"dataframe\">\n",
       "  <thead>\n",
       "    <tr style=\"text-align: right;\">\n",
       "      <th></th>\n",
       "      <th>date</th>\n",
       "      <th>link</th>\n",
       "      <th>summery</th>\n",
       "      <th>title</th>\n",
       "    </tr>\n",
       "  </thead>\n",
       "  <tbody>\n",
       "    <tr>\n",
       "      <th>0</th>\n",
       "      <td>2018-04-24T04:59:11 GMT</td>\n",
       "      <td>https://www.express.pk/story/1155787/6</td>\n",
       "      <td>سیلزوکارپوریٹ ٹیکس میں کمی،تمام امورکے لیے ایک...</td>\n",
       "      <td>ریونیو حکام پر عوام کا عدم اعتماد، ٹیکس چوری ک...</td>\n",
       "    </tr>\n",
       "    <tr>\n",
       "      <th>1</th>\n",
       "      <td>2018-04-24T04:57:29 GMT</td>\n",
       "      <td>https://www.express.pk/story/1155783/6</td>\n",
       "      <td>خصوصی سیکریٹریٹ قائم،ایف بی آر وکسٹمز ڈیٹا سی...</td>\n",
       "      <td>جی ڈی فیس کی مد میں جمع فنڈ استعمال کرنے کا فیصلہ</td>\n",
       "    </tr>\n",
       "    <tr>\n",
       "      <th>2</th>\n",
       "      <td>2018-04-24T04:56:48 GMT</td>\n",
       "      <td>https://www.express.pk/story/1155790/6</td>\n",
       "      <td>312اسٹالزپرمقامی وغیرملکی ایگزبیٹرز نے اشیاپیش...</td>\n",
       "      <td>مائی کراچی نمائش کامیاب، دورانیہ 5 روز تک بڑھا...</td>\n",
       "    </tr>\n",
       "    <tr>\n",
       "      <th>3</th>\n",
       "      <td>2018-04-24T04:55:57 GMT</td>\n",
       "      <td>https://www.express.pk/story/1155777/6</td>\n",
       "      <td>چاول32.4کروڑ،چینی29.55کروڑ،نٹ ویئر24.5کروڑ، فا...</td>\n",
       "      <td>ٹرانسپورٹ و پٹرولیم درآمدات میں نمایاں اضافہ</td>\n",
       "    </tr>\n",
       "  </tbody>\n",
       "</table>\n",
       "</div>"
      ],
      "text/plain": [
       "                      date                                    link  \\\n",
       "0  2018-04-24T04:59:11 GMT  https://www.express.pk/story/1155787/6   \n",
       "1  2018-04-24T04:57:29 GMT  https://www.express.pk/story/1155783/6   \n",
       "2  2018-04-24T04:56:48 GMT  https://www.express.pk/story/1155790/6   \n",
       "3  2018-04-24T04:55:57 GMT  https://www.express.pk/story/1155777/6   \n",
       "\n",
       "                                             summery  \\\n",
       "0  سیلزوکارپوریٹ ٹیکس میں کمی،تمام امورکے لیے ایک...   \n",
       "1  خصوصی سیکریٹریٹ قائم،ایف بی آر وکسٹمز ڈیٹا سی...   \n",
       "2  312اسٹالزپرمقامی وغیرملکی ایگزبیٹرز نے اشیاپیش...   \n",
       "3  چاول32.4کروڑ،چینی29.55کروڑ،نٹ ویئر24.5کروڑ، فا...   \n",
       "\n",
       "                                               title  \n",
       "0  ریونیو حکام پر عوام کا عدم اعتماد، ٹیکس چوری ک...  \n",
       "1  جی ڈی فیس کی مد میں جمع فنڈ استعمال کرنے کا فیصلہ  \n",
       "2  مائی کراچی نمائش کامیاب، دورانیہ 5 روز تک بڑھا...  \n",
       "3      ٹرانسپورٹ و پٹرولیم درآمدات میں نمایاں اضافہ  "
      ]
     },
     "execution_count": 107,
     "metadata": {},
     "output_type": "execute_result"
    }
   ],
   "source": [
    "data.iloc[0:4,1:5]"
   ]
  },
  {
   "cell_type": "code",
   "execution_count": 108,
   "metadata": {},
   "outputs": [
    {
     "data": {
      "text/plain": [
       "category      11757\n",
       "date          11757\n",
       "link          11757\n",
       "summery       11757\n",
       "title         11756\n",
       "Unnamed: 5        1\n",
       "dtype: int64"
      ]
     },
     "execution_count": 108,
     "metadata": {},
     "output_type": "execute_result"
    }
   ],
   "source": [
    "data.count()"
   ]
  },
  {
   "cell_type": "code",
   "execution_count": 109,
   "metadata": {},
   "outputs": [
    {
     "name": "stdout",
     "output_type": "stream",
     "text": [
      "How many most common words to print: 5\n",
      "\n",
      "The 5 most common words are: \n",
      "\n",
      "کی :  13108\n",
      "میں :  9944\n",
      "کے :  9207\n",
      "کا :  6273\n",
      "سے :  6232\n"
     ]
    },
    {
     "data": {
      "text/plain": [
       "<matplotlib.axes._subplots.AxesSubplot at 0x1a23c53a90>"
      ]
     },
     "execution_count": 109,
     "metadata": {},
     "output_type": "execute_result"
    },
    {
     "data": {
      "image/png": "[encoded data removed]",
      "text/plain": [
       "<Figure size 432x288 with 1 Axes>"
      ]
     },
     "metadata": {
      "needs_background": "light"
     },
     "output_type": "display_data"
    }
   ],
   "source": [
    "import collections\n",
    "import matplotlib.pyplot as plt\n",
    "%matplotlib inline\n",
    "file = open('Business.csv', encoding=\"utf8\")\n",
    "a= file.read()\n",
    "wordcount = {}\n",
    "for word in a.lower().split():\n",
    "    if word not in wordcount:\n",
    "        wordcount[word] = 1\n",
    "    else:\n",
    "        wordcount[word] += 1\n",
    "n_print = int(input(\"How many most common words to print: \"))\n",
    "print(\"\\nThe {} most common words are: \\n\".format(n_print))\n",
    "word_counter = collections.Counter(wordcount)\n",
    "for word, count in word_counter.most_common(n_print):\n",
    "    print(word, \": \", count)\n",
    "file.close()\n",
    "lst = word_counter.most_common(n_print)\n",
    "df = pd.DataFrame(lst, columns = ['Word', 'Count'])\n",
    "df.plot.bar(x='Word',y='Count')"
   ]
  },
  {
   "cell_type": "code",
   "execution_count": 110,
   "metadata": {
    "scrolled": true
   },
   "outputs": [
    {
     "data": {
      "text/html": [
       "<div>\n",
       "<style scoped>\n",
       "    .dataframe tbody tr th:only-of-type {\n",
       "        vertical-align: middle;\n",
       "    }\n",
       "\n",
       "    .dataframe tbody tr th {\n",
       "        vertical-align: top;\n",
       "    }\n",
       "\n",
       "    .dataframe thead th {\n",
       "        text-align: right;\n",
       "    }\n",
       "</style>\n",
       "<table border=\"1\" class=\"dataframe\">\n",
       "  <thead>\n",
       "    <tr style=\"text-align: right;\">\n",
       "      <th></th>\n",
       "      <th>category</th>\n",
       "      <th>date</th>\n",
       "      <th>link</th>\n",
       "      <th>summery</th>\n",
       "      <th>title</th>\n",
       "      <th>Unnamed: 5</th>\n",
       "    </tr>\n",
       "  </thead>\n",
       "  <tbody>\n",
       "    <tr>\n",
       "      <th>count</th>\n",
       "      <td>11757</td>\n",
       "      <td>11757</td>\n",
       "      <td>11757</td>\n",
       "      <td>11757</td>\n",
       "      <td>11756</td>\n",
       "      <td>1</td>\n",
       "    </tr>\n",
       "    <tr>\n",
       "      <th>unique</th>\n",
       "      <td>1</td>\n",
       "      <td>11755</td>\n",
       "      <td>11757</td>\n",
       "      <td>11752</td>\n",
       "      <td>11669</td>\n",
       "      <td>1</td>\n",
       "    </tr>\n",
       "    <tr>\n",
       "      <th>top</th>\n",
       "      <td>business</td>\n",
       "      <td>2014-02-03T04:49:13 GMT</td>\n",
       "      <td>https://www.express.pk/story/318223</td>\n",
       "      <td></td>\n",
       "      <td>سونے کی قیمتوں میں اضافہ</td>\n",
       "      <td>حکومت کی مثبت پالیسیوں کے باعث عالمی ادارے آج ...</td>\n",
       "    </tr>\n",
       "    <tr>\n",
       "      <th>freq</th>\n",
       "      <td>11757</td>\n",
       "      <td>2</td>\n",
       "      <td>1</td>\n",
       "      <td>4</td>\n",
       "      <td>27</td>\n",
       "      <td>1</td>\n",
       "    </tr>\n",
       "  </tbody>\n",
       "</table>\n",
       "</div>"
      ],
      "text/plain": [
       "        category                     date  \\\n",
       "count      11757                    11757   \n",
       "unique         1                    11755   \n",
       "top     business  2014-02-03T04:49:13 GMT   \n",
       "freq       11757                        2   \n",
       "\n",
       "                                       link summery                     title  \\\n",
       "count                                 11757   11757                     11756   \n",
       "unique                                11757   11752                     11669   \n",
       "top     https://www.express.pk/story/318223          سونے کی قیمتوں میں اضافہ   \n",
       "freq                                      1       4                        27   \n",
       "\n",
       "                                               Unnamed: 5  \n",
       "count                                                   1  \n",
       "unique                                                  1  \n",
       "top     حکومت کی مثبت پالیسیوں کے باعث عالمی ادارے آج ...  \n",
       "freq                                                    1  "
      ]
     },
     "execution_count": 110,
     "metadata": {},
     "output_type": "execute_result"
    }
   ],
   "source": [
    "data.describe()"
   ]
  },
  {
   "cell_type": "code",
   "execution_count": 111,
   "metadata": {
    "scrolled": false
   },
   "outputs": [
    {
     "name": "stdout",
     "output_type": "stream",
     "text": [
      "<class 'pandas.core.frame.DataFrame'>\n",
      "RangeIndex: 11757 entries, 0 to 11756\n",
      "Data columns (total 6 columns):\n",
      "category      11757 non-null object\n",
      "date          11757 non-null object\n",
      "link          11757 non-null object\n",
      "summery       11757 non-null object\n",
      "title         11756 non-null object\n",
      "Unnamed: 5    1 non-null object\n",
      "dtypes: object(6)\n",
      "memory usage: 551.2+ KB\n"
     ]
    }
   ],
   "source": [
    "data.info()"
   ]
  },
  {
   "cell_type": "code",
   "execution_count": 112,
   "metadata": {
    "scrolled": true
   },
   "outputs": [
    {
     "data": {
      "text/html": [
       "<div>\n",
       "<style scoped>\n",
       "    .dataframe tbody tr th:only-of-type {\n",
       "        vertical-align: middle;\n",
       "    }\n",
       "\n",
       "    .dataframe tbody tr th {\n",
       "        vertical-align: top;\n",
       "    }\n",
       "\n",
       "    .dataframe thead th {\n",
       "        text-align: right;\n",
       "    }\n",
       "</style>\n",
       "<table border=\"1\" class=\"dataframe\">\n",
       "  <thead>\n",
       "    <tr style=\"text-align: right;\">\n",
       "      <th></th>\n",
       "      <th>category</th>\n",
       "      <th>date</th>\n",
       "      <th>link</th>\n",
       "      <th>summery</th>\n",
       "      <th>title</th>\n",
       "    </tr>\n",
       "  </thead>\n",
       "  <tbody>\n",
       "    <tr>\n",
       "      <th>1</th>\n",
       "      <td>business</td>\n",
       "      <td>2018-04-24T04:57:29 GMT</td>\n",
       "      <td>https://www.express.pk/story/1155783/6</td>\n",
       "      <td>خصوصی سیکریٹریٹ قائم،ایف بی آر وکسٹمز ڈیٹا سی...</td>\n",
       "      <td>جی ڈی فیس کی مد میں جمع فنڈ استعمال کرنے کا فیصلہ</td>\n",
       "    </tr>\n",
       "    <tr>\n",
       "      <th>2</th>\n",
       "      <td>business</td>\n",
       "      <td>2018-04-24T04:56:48 GMT</td>\n",
       "      <td>https://www.express.pk/story/1155790/6</td>\n",
       "      <td>312اسٹالزپرمقامی وغیرملکی ایگزبیٹرز نے اشیاپیش...</td>\n",
       "      <td>مائی کراچی نمائش کامیاب، دورانیہ 5 روز تک بڑھا...</td>\n",
       "    </tr>\n",
       "    <tr>\n",
       "      <th>3</th>\n",
       "      <td>business</td>\n",
       "      <td>2018-04-24T04:55:57 GMT</td>\n",
       "      <td>https://www.express.pk/story/1155777/6</td>\n",
       "      <td>چاول32.4کروڑ،چینی29.55کروڑ،نٹ ویئر24.5کروڑ، فا...</td>\n",
       "      <td>ٹرانسپورٹ و پٹرولیم درآمدات میں نمایاں اضافہ</td>\n",
       "    </tr>\n",
       "    <tr>\n",
       "      <th>4</th>\n",
       "      <td>business</td>\n",
       "      <td>2018-04-24T04:43:06 GMT</td>\n",
       "      <td>https://www.express.pk/story/1155730/6</td>\n",
       "      <td>ایکسپریس میڈیا گروپ کے زیر اہتمام اسلام آباد ...</td>\n",
       "      <td>بجٹ 2018ء کیا عوام کو ریلیف مل سکے گا ؟</td>\n",
       "    </tr>\n",
       "    <tr>\n",
       "      <th>5</th>\n",
       "      <td>business</td>\n",
       "      <td>2018-04-24T04:35:11 GMT</td>\n",
       "      <td>https://www.express.pk/story/1155831/6</td>\n",
       "      <td>انٹربینک اوراوپن مارکیٹ کے درمیان قدرکافرق3فیص...</td>\n",
       "      <td>ڈالر کی قیمت بڑھنے پر کرنسی ڈیلرز کو اسٹیٹ بین...</td>\n",
       "    </tr>\n",
       "  </tbody>\n",
       "</table>\n",
       "</div>"
      ],
      "text/plain": [
       "   category                     date                                    link  \\\n",
       "1  business  2018-04-24T04:57:29 GMT  https://www.express.pk/story/1155783/6   \n",
       "2  business  2018-04-24T04:56:48 GMT  https://www.express.pk/story/1155790/6   \n",
       "3  business  2018-04-24T04:55:57 GMT  https://www.express.pk/story/1155777/6   \n",
       "4  business  2018-04-24T04:43:06 GMT  https://www.express.pk/story/1155730/6   \n",
       "5  business  2018-04-24T04:35:11 GMT  https://www.express.pk/story/1155831/6   \n",
       "\n",
       "                                             summery  \\\n",
       "1  خصوصی سیکریٹریٹ قائم،ایف بی آر وکسٹمز ڈیٹا سی...   \n",
       "2  312اسٹالزپرمقامی وغیرملکی ایگزبیٹرز نے اشیاپیش...   \n",
       "3  چاول32.4کروڑ،چینی29.55کروڑ،نٹ ویئر24.5کروڑ، فا...   \n",
       "4  ایکسپریس میڈیا گروپ کے زیر اہتمام اسلام آباد ...   \n",
       "5  انٹربینک اوراوپن مارکیٹ کے درمیان قدرکافرق3فیص...   \n",
       "\n",
       "                                               title  \n",
       "1  جی ڈی فیس کی مد میں جمع فنڈ استعمال کرنے کا فیصلہ  \n",
       "2  مائی کراچی نمائش کامیاب، دورانیہ 5 روز تک بڑھا...  \n",
       "3      ٹرانسپورٹ و پٹرولیم درآمدات میں نمایاں اضافہ  \n",
       "4            بجٹ 2018ء کیا عوام کو ریلیف مل سکے گا ؟  \n",
       "5  ڈالر کی قیمت بڑھنے پر کرنسی ڈیلرز کو اسٹیٹ بین...  "
      ]
     },
     "execution_count": 112,
     "metadata": {},
     "output_type": "execute_result"
    }
   ],
   "source": [
    "data.iloc[1:6,0:5]"
   ]
  },
  {
   "cell_type": "code",
   "execution_count": 113,
   "metadata": {
    "scrolled": true
   },
   "outputs": [
    {
     "name": "stdout",
     "output_type": "stream",
     "text": [
      "category      datetitle\n",
      "date          datetitle\n",
      "link          datetitle\n",
      "summery       datetitle\n",
      "title         datetitle\n",
      "Unnamed: 5    datetitle\n",
      "dtype: object\n"
     ]
    }
   ],
   "source": [
    "import string\n",
    "exclude = set(string.punctuation)\n",
    "def remove_punctuation(data):\n",
    "    \"\"\"\n",
    "    Helper function to remove punctuation from a string\n",
    "    x: any string\n",
    "    \"\"\"\n",
    "    try:\n",
    "        data = ''.join(ch for ch in x if ch not in exclude)\n",
    "    except:\n",
    "        pass\n",
    "    return data\n",
    "# Apply the function to the DataFrame\n",
    "data2 = data.apply(remove_punctuation)\n",
    "print(data2)"
   ]
  },
  {
   "cell_type": "code",
   "execution_count": 114,
   "metadata": {},
   "outputs": [],
   "source": [
    "import pandas as pd\n",
    "data = pd.read_csv('Business.csv', encoding=\"utf8\")\n",
    "#Data Cleaning \n",
    "from nltk.corpus import stopwords\n",
    "stop = set(stopwords.words('urdu.txt'))\n",
    "from nltk.corpus import stopwords\n",
    "def remove_stopword(word):\n",
    "    return word not in words\n",
    " \n",
    "data = data.apply(lambda x : [item for item in x if item not in stop])"
   ]
  },
  {
   "cell_type": "code",
   "execution_count": 115,
   "metadata": {},
   "outputs": [
    {
     "name": "stdout",
     "output_type": "stream",
     "text": [
      "['category', 'date', 'link', 'summery', 'title', 'Unnamed: 5']\n",
      "Schema:\n",
      "\n",
      " category      object\n",
      "date          object\n",
      "link          object\n",
      "summery       object\n",
      "title         object\n",
      "Unnamed: 5    object\n",
      "dtype: object\n",
      "Number of questions,columns= (11757, 6)\n"
     ]
    }
   ],
   "source": [
    "import pandas as pd\n",
    "df_idf=pd.read_csv(\"Business.csv\",encoding='utf8')\n",
    "print(df_idf.columns.tolist())\n",
    " \n",
    "# print schema\n",
    "print(\"Schema:\\n\\n\",df_idf.dtypes)\n",
    "print(\"Number of questions,columns=\",df_idf.shape)"
   ]
  },
  {
   "cell_type": "code",
   "execution_count": 116,
   "metadata": {},
   "outputs": [],
   "source": [
    "from sklearn.model_selection import train_test_split\n",
    "x = data[['date', 'title']]\n",
    "y = data['summery']\n",
    "# Split data into training and test sets\n",
    "x_train, x_test, y_train, y_test = train_test_split(x,y,test_size=0.33, random_state=42)"
   ]
  },
  {
   "cell_type": "code",
   "execution_count": null,
   "metadata": {},
   "outputs": [],
   "source": []
  }
 ],
 "metadata": {
  "kernelspec": {
   "display_name": "Python 3",
   "language": "python",
   "name": "python3"
  },
  "language_info": {
   "codemirror_mode": {
    "name": "ipython",
    "version": 3
   },
   "file_extension": ".py",
   "mimetype": "text/x-python",
   "name": "python",
   "nbconvert_exporter": "python",
   "pygments_lexer": "ipython3",
   "version": "3.7.3"
  }
 },
 "nbformat": 4,
 "nbformat_minor": 2
}
